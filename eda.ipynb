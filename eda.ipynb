{
 "cells": [
  {
   "cell_type": "code",
   "execution_count": 12,
   "metadata": {},
   "outputs": [],
   "source": [
    "import os\n",
    "from scipy.io import loadmat\n",
    "import numpy as np\n",
    "import pandas as pd\n",
    "import wandb\n",
    "import matplotlib.pyplot as plt\n",
    "import seaborn as sns\n",
    "from tqdm.notebook import tqdm\n",
    "from joblib import Parallel, delayed\n",
    "import plotly.express as px"
   ]
  },
  {
   "cell_type": "code",
   "execution_count": null,
   "metadata": {},
   "outputs": [],
   "source": [
    "artifact = wandb.Artifact(name=\"PhysioNet_Dataset\", type=\"dataset\")\n",
    "artifact.add_dir(\"./Training_WFDB\")"
   ]
  },
  {
   "cell_type": "code",
   "execution_count": null,
   "metadata": {},
   "outputs": [],
   "source": [
    "wandb.init(project=\"PhysioNet_Challenge\", name=\"LogDataset\")\n",
    "wandb.log_artifact(artifact)\n",
    "wandb.finish()"
   ]
  },
  {
   "cell_type": "code",
   "execution_count": 13,
   "metadata": {},
   "outputs": [],
   "source": [
    "import plotly.graph_objects as go"
   ]
  },
  {
   "cell_type": "code",
   "execution_count": 14,
   "metadata": {},
   "outputs": [],
   "source": [
    "def make_plot(signal, filename):\n",
    "    \"\"\"\n",
    "    Plots the signal.\n",
    "    \"\"\"\n",
    "\n",
    "    # fig, ax_ls = plt.subplots(3, 4, figsize=(7, 28/3))\n",
    "    # fig.title = filename\n",
    "    figure = go.Figure()\n",
    "    x = list(range(signal.shape[1]))\n",
    "    for i in range(12):\n",
    "        figure.add_trace(go.Scatter(x=x, y=signal[i], name=f\"Channel {i + 1}\", visible=\"legendonly\"))\n",
    "        \n",
    "    return figure"
   ]
  },
  {
   "cell_type": "code",
   "execution_count": 15,
   "metadata": {},
   "outputs": [],
   "source": [
    "df = pd.read_csv(\"./Dx_map.csv\")\n",
    "mapping = {}\n",
    "for i, row in df.iterrows():\n",
    "    mapping[row['SNOMED CT Code']] = row['Dx']"
   ]
  },
  {
   "cell_type": "code",
   "execution_count": 16,
   "metadata": {},
   "outputs": [],
   "source": [
    "def get_data(file_name):\n",
    "    \"\"\"\n",
    "    Loads the diagnoses from the .hea file.\n",
    "    \"\"\"\n",
    "    file_name = file_name.split(\".\")[0]\n",
    "    with open(f\"./Training_WFDB/{file_name}.hea\") as f:\n",
    "        data = f.readlines()\n",
    "    \n",
    "    signal = loadmat(f\"./Training_WFDB/{file_name}.mat\")[\"val\"]\n",
    "    \n",
    "    reqd = {}\n",
    "    reqd[\"id\"] = file_name\n",
    "    reqd[\"length\"] = signal.shape[1]\n",
    "    for line in data:\n",
    "        if line.startswith(\"#Age\"):\n",
    "            l = line.split(\":\")\n",
    "            try:\n",
    "                age = float(l[1].strip())\n",
    "            except:\n",
    "                age = np.nan\n",
    "            reqd[\"age\"] = age\n",
    "\n",
    "        if line.startswith(\"#Sex\"):\n",
    "            l = line.split(\":\")\n",
    "            sex = l[1].strip()\n",
    "            reqd[\"sex\"] = sex\n",
    "        \n",
    "        if line.startswith(\"#Dx\"):\n",
    "            l = line.split(\":\")\n",
    "            diagnosis = l[1].strip()\n",
    "            if \",\" in diagnosis:\n",
    "                diagnosis = diagnosis.split(\",\")\n",
    "            if not isinstance(diagnosis, list):\n",
    "                diagnosis = [diagnosis]\n",
    "            diagnosis = [mapping[int(d)] for d in diagnosis]\n",
    "            reqd[\"diagnosis\"] = diagnosis\n",
    "    return reqd"
   ]
  },
  {
   "cell_type": "code",
   "execution_count": 17,
   "metadata": {},
   "outputs": [],
   "source": [
    "files = os.listdir(\"./Training_WFDB\")"
   ]
  },
  {
   "cell_type": "code",
   "execution_count": null,
   "metadata": {},
   "outputs": [],
   "source": []
  },
  {
   "cell_type": "code",
   "execution_count": 18,
   "metadata": {},
   "outputs": [
    {
     "data": {
      "application/vnd.jupyter.widget-view+json": {
       "model_id": "2a4c6e4f74414754a6b35a66df0d4472",
       "version_major": 2,
       "version_minor": 0
      },
      "text/plain": [
       "  0%|          | 0/6877 [00:00<?, ?it/s]"
      ]
     },
     "metadata": {},
     "output_type": "display_data"
    },
    {
     "data": {
      "application/vnd.jupyter.widget-view+json": {
       "model_id": "76eb6ab9d9f74220945093549a6210a7",
       "version_major": 2,
       "version_minor": 0
      },
      "text/plain": [
       "  0%|          | 0/6877 [00:00<?, ?it/s]"
      ]
     },
     "metadata": {},
     "output_type": "display_data"
    }
   ],
   "source": [
    "df = {\n",
    "    \"id\": [],\n",
    "    \"age\": [],\n",
    "    \"sex\": [],\n",
    "    \"diagnosis\": [],\n",
    "    \"length\": [],\n",
    "    # \"signals\": []\n",
    "}\n",
    "files = [i for i in files if i.endswith(\".hea\")]\n",
    "\n",
    "data = [get_data(file) for file in tqdm(files)]\n",
    "for row in tqdm(data):\n",
    "    for k in df.keys():\n",
    "        df[k].append(row[k])"
   ]
  },
  {
   "cell_type": "code",
   "execution_count": 19,
   "metadata": {},
   "outputs": [],
   "source": [
    "table = wandb.Table(dataframe=pd.DataFrame(df))\n",
    "# run.finish()"
   ]
  },
  {
   "cell_type": "code",
   "execution_count": 20,
   "metadata": {},
   "outputs": [
    {
     "data": {
      "text/html": [
       "<div>\n",
       "<style scoped>\n",
       "    .dataframe tbody tr th:only-of-type {\n",
       "        vertical-align: middle;\n",
       "    }\n",
       "\n",
       "    .dataframe tbody tr th {\n",
       "        vertical-align: top;\n",
       "    }\n",
       "\n",
       "    .dataframe thead th {\n",
       "        text-align: right;\n",
       "    }\n",
       "</style>\n",
       "<table border=\"1\" class=\"dataframe\">\n",
       "  <thead>\n",
       "    <tr style=\"text-align: right;\">\n",
       "      <th></th>\n",
       "      <th>id</th>\n",
       "      <th>age</th>\n",
       "      <th>sex</th>\n",
       "      <th>diagnosis</th>\n",
       "      <th>length</th>\n",
       "    </tr>\n",
       "  </thead>\n",
       "  <tbody>\n",
       "    <tr>\n",
       "      <th>0</th>\n",
       "      <td>A4137</td>\n",
       "      <td>51.0</td>\n",
       "      <td>Male</td>\n",
       "      <td>[atrial fibrillation]</td>\n",
       "      <td>5000</td>\n",
       "    </tr>\n",
       "    <tr>\n",
       "      <th>1</th>\n",
       "      <td>A6092</td>\n",
       "      <td>67.0</td>\n",
       "      <td>Female</td>\n",
       "      <td>[atrial fibrillation, right bundle branch block]</td>\n",
       "      <td>5000</td>\n",
       "    </tr>\n",
       "    <tr>\n",
       "      <th>2</th>\n",
       "      <td>A0201</td>\n",
       "      <td>22.0</td>\n",
       "      <td>Female</td>\n",
       "      <td>[st depression]</td>\n",
       "      <td>7500</td>\n",
       "    </tr>\n",
       "    <tr>\n",
       "      <th>3</th>\n",
       "      <td>A6551</td>\n",
       "      <td>84.0</td>\n",
       "      <td>Male</td>\n",
       "      <td>[atrial fibrillation]</td>\n",
       "      <td>7651</td>\n",
       "    </tr>\n",
       "    <tr>\n",
       "      <th>4</th>\n",
       "      <td>A3493</td>\n",
       "      <td>90.0</td>\n",
       "      <td>Male</td>\n",
       "      <td>[right bundle branch block, premature atrial c...</td>\n",
       "      <td>5213</td>\n",
       "    </tr>\n",
       "    <tr>\n",
       "      <th>...</th>\n",
       "      <td>...</td>\n",
       "      <td>...</td>\n",
       "      <td>...</td>\n",
       "      <td>...</td>\n",
       "      <td>...</td>\n",
       "    </tr>\n",
       "    <tr>\n",
       "      <th>6872</th>\n",
       "      <td>A1652</td>\n",
       "      <td>65.0</td>\n",
       "      <td>Male</td>\n",
       "      <td>[st depression]</td>\n",
       "      <td>21000</td>\n",
       "    </tr>\n",
       "    <tr>\n",
       "      <th>6873</th>\n",
       "      <td>A4024</td>\n",
       "      <td>14.0</td>\n",
       "      <td>Male</td>\n",
       "      <td>[sinus rhythm]</td>\n",
       "      <td>7000</td>\n",
       "    </tr>\n",
       "    <tr>\n",
       "      <th>6874</th>\n",
       "      <td>A3329</td>\n",
       "      <td>83.0</td>\n",
       "      <td>Female</td>\n",
       "      <td>[1st degree av block]</td>\n",
       "      <td>5000</td>\n",
       "    </tr>\n",
       "    <tr>\n",
       "      <th>6875</th>\n",
       "      <td>A0979</td>\n",
       "      <td>71.0</td>\n",
       "      <td>Female</td>\n",
       "      <td>[atrial fibrillation, right bundle branch block]</td>\n",
       "      <td>10500</td>\n",
       "    </tr>\n",
       "    <tr>\n",
       "      <th>6876</th>\n",
       "      <td>A5520</td>\n",
       "      <td>80.0</td>\n",
       "      <td>Female</td>\n",
       "      <td>[premature atrial contraction]</td>\n",
       "      <td>5000</td>\n",
       "    </tr>\n",
       "  </tbody>\n",
       "</table>\n",
       "<p>6877 rows × 5 columns</p>\n",
       "</div>"
      ],
      "text/plain": [
       "         id   age     sex                                          diagnosis  \\\n",
       "0     A4137  51.0    Male                              [atrial fibrillation]   \n",
       "1     A6092  67.0  Female   [atrial fibrillation, right bundle branch block]   \n",
       "2     A0201  22.0  Female                                    [st depression]   \n",
       "3     A6551  84.0    Male                              [atrial fibrillation]   \n",
       "4     A3493  90.0    Male  [right bundle branch block, premature atrial c...   \n",
       "...     ...   ...     ...                                                ...   \n",
       "6872  A1652  65.0    Male                                    [st depression]   \n",
       "6873  A4024  14.0    Male                                     [sinus rhythm]   \n",
       "6874  A3329  83.0  Female                              [1st degree av block]   \n",
       "6875  A0979  71.0  Female   [atrial fibrillation, right bundle branch block]   \n",
       "6876  A5520  80.0  Female                     [premature atrial contraction]   \n",
       "\n",
       "      length  \n",
       "0       5000  \n",
       "1       5000  \n",
       "2       7500  \n",
       "3       7651  \n",
       "4       5213  \n",
       "...      ...  \n",
       "6872   21000  \n",
       "6873    7000  \n",
       "6874    5000  \n",
       "6875   10500  \n",
       "6876    5000  \n",
       "\n",
       "[6877 rows x 5 columns]"
      ]
     },
     "execution_count": 20,
     "metadata": {},
     "output_type": "execute_result"
    }
   ],
   "source": [
    "pd.DataFrame(df)"
   ]
  },
  {
   "cell_type": "code",
   "execution_count": 22,
   "metadata": {},
   "outputs": [
    {
     "data": {
      "text/html": [
       "Finishing last run (ID:1pfkmk4j) before initializing another..."
      ],
      "text/plain": [
       "<IPython.core.display.HTML object>"
      ]
     },
     "metadata": {},
     "output_type": "display_data"
    },
    {
     "name": "stdout",
     "output_type": "stream",
     "text": [
      "\n"
     ]
    },
    {
     "data": {
      "text/html": [
       "Waiting for W&B process to finish... <strong style=\"color:green\">(success).</strong>"
      ],
      "text/plain": [
       "<IPython.core.display.HTML object>"
      ]
     },
     "metadata": {},
     "output_type": "display_data"
    },
    {
     "data": {
      "application/vnd.jupyter.widget-view+json": {
       "model_id": "",
       "version_major": 2,
       "version_minor": 0
      },
      "text/plain": [
       "VBox(children=(Label(value='0.001 MB of 0.001 MB uploaded (0.000 MB deduped)\\r'), FloatProgress(value=1.0, max…"
      ]
     },
     "metadata": {},
     "output_type": "display_data"
    },
    {
     "data": {
      "text/html": [
       "Synced <strong style=\"color:#cdcd00\">EDA</strong>: <a href=\"https://wandb.ai/timeseriesbois/PhysioNet_Challenge/runs/1pfkmk4j\" target=\"_blank\">https://wandb.ai/timeseriesbois/PhysioNet_Challenge/runs/1pfkmk4j</a><br/>Synced 5 W&B file(s), 0 media file(s), 0 artifact file(s) and 0 other file(s)"
      ],
      "text/plain": [
       "<IPython.core.display.HTML object>"
      ]
     },
     "metadata": {},
     "output_type": "display_data"
    },
    {
     "data": {
      "text/html": [
       "Find logs at: <code>./wandb/run-20220410_133654-1pfkmk4j/logs</code>"
      ],
      "text/plain": [
       "<IPython.core.display.HTML object>"
      ]
     },
     "metadata": {},
     "output_type": "display_data"
    },
    {
     "data": {
      "text/html": [
       "Successfully finished last run (ID:1pfkmk4j). Initializing new run:<br/>"
      ],
      "text/plain": [
       "<IPython.core.display.HTML object>"
      ]
     },
     "metadata": {},
     "output_type": "display_data"
    },
    {
     "data": {
      "text/html": [
       "wandb version 0.12.14 is available!  To upgrade, please run:\n",
       " $ pip install wandb --upgrade"
      ],
      "text/plain": [
       "<IPython.core.display.HTML object>"
      ]
     },
     "metadata": {},
     "output_type": "display_data"
    },
    {
     "data": {
      "text/html": [
       "Tracking run with wandb version 0.12.12"
      ],
      "text/plain": [
       "<IPython.core.display.HTML object>"
      ]
     },
     "metadata": {},
     "output_type": "display_data"
    },
    {
     "data": {
      "text/html": [
       "Run data is saved locally in <code>/home/paperspace/HackWeek/wandb/run-20220410_133715-2gez5xaf</code>"
      ],
      "text/plain": [
       "<IPython.core.display.HTML object>"
      ]
     },
     "metadata": {},
     "output_type": "display_data"
    },
    {
     "data": {
      "text/html": [
       "Syncing run <strong><a href=\"https://wandb.ai/timeseriesbois/PhysioNet_Challenge/runs/2gez5xaf\" target=\"_blank\">EDA</a></strong> to <a href=\"https://wandb.ai/timeseriesbois/PhysioNet_Challenge\" target=\"_blank\">Weights & Biases</a> (<a href=\"https://wandb.me/run\" target=\"_blank\">docs</a>)<br/>"
      ],
      "text/plain": [
       "<IPython.core.display.HTML object>"
      ]
     },
     "metadata": {},
     "output_type": "display_data"
    },
    {
     "name": "stdout",
     "output_type": "stream",
     "text": [
      "\n"
     ]
    },
    {
     "data": {
      "text/html": [
       "Waiting for W&B process to finish... <strong style=\"color:green\">(success).</strong>"
      ],
      "text/plain": [
       "<IPython.core.display.HTML object>"
      ]
     },
     "metadata": {},
     "output_type": "display_data"
    },
    {
     "data": {
      "application/vnd.jupyter.widget-view+json": {
       "model_id": "",
       "version_major": 2,
       "version_minor": 0
      },
      "text/plain": [
       "VBox(children=(Label(value='0.391 MB of 0.391 MB uploaded (0.000 MB deduped)\\r'), FloatProgress(value=1.0, max…"
      ]
     },
     "metadata": {},
     "output_type": "display_data"
    },
    {
     "data": {
      "text/html": [
       "Synced <strong style=\"color:#cdcd00\">EDA</strong>: <a href=\"https://wandb.ai/timeseriesbois/PhysioNet_Challenge/runs/2gez5xaf\" target=\"_blank\">https://wandb.ai/timeseriesbois/PhysioNet_Challenge/runs/2gez5xaf</a><br/>Synced 5 W&B file(s), 1 media file(s), 1 artifact file(s) and 0 other file(s)"
      ],
      "text/plain": [
       "<IPython.core.display.HTML object>"
      ]
     },
     "metadata": {},
     "output_type": "display_data"
    },
    {
     "data": {
      "text/html": [
       "Find logs at: <code>./wandb/run-20220410_133715-2gez5xaf/logs</code>"
      ],
      "text/plain": [
       "<IPython.core.display.HTML object>"
      ]
     },
     "metadata": {},
     "output_type": "display_data"
    }
   ],
   "source": [
    "run = wandb.init(project=\"PhysioNet_Challenge\", name=\"EDA\", entity=\"timeseriesbois\")\n",
    "# artifact.wait()\n",
    "run.use_artifact(\"timeseriesbois/PhysioNet_Challenge/run-2ibagv9z-data_table:v0\", type=\"run_table\")\n",
    "run.log({\"eda_table\": table})\n",
    "run.finish()"
   ]
  },
  {
   "cell_type": "code",
   "execution_count": null,
   "metadata": {},
   "outputs": [],
   "source": [
    "from sklearn.model_selection import train_test_split\n",
    "train_files, test_files = train_test_split(files, test_size=0.1)\n",
    "train_files, val_files = train_test_split(train_files, test_size=0.1)"
   ]
  },
  {
   "cell_type": "code",
   "execution_count": null,
   "metadata": {},
   "outputs": [],
   "source": [
    "len(train_files), len(test_files), len(val_files)"
   ]
  },
  {
   "cell_type": "code",
   "execution_count": null,
   "metadata": {},
   "outputs": [],
   "source": [
    "df = {\n",
    "    \"id\": [],\n",
    "    \"age\": [],\n",
    "    \"sex\": [],\n",
    "    \"diagnosis\": [],\n",
    "    # \"signals\": []\n",
    "}\n",
    "data = [get_data(file) for file in tqdm(train_files)]\n",
    "for row in tqdm(data):\n",
    "    for k in df.keys():\n",
    "        df[k].append(row[k])\n",
    "train_table = wandb.Table(dataframe=pd.DataFrame(df))"
   ]
  },
  {
   "cell_type": "code",
   "execution_count": null,
   "metadata": {},
   "outputs": [],
   "source": [
    "df = {\n",
    "    \"id\": [],\n",
    "    \"age\": [],\n",
    "    \"sex\": [],\n",
    "    \"diagnosis\": [],\n",
    "    # \"signals\": []\n",
    "}\n",
    "data = [get_data(file) for file in tqdm(val_files)]\n",
    "for row in tqdm(data):\n",
    "    for k in df.keys():\n",
    "        df[k].append(row[k])\n",
    "val_table = wandb.Table(dataframe=pd.DataFrame(df))"
   ]
  },
  {
   "cell_type": "code",
   "execution_count": null,
   "metadata": {},
   "outputs": [],
   "source": [
    "df = {\n",
    "    \"id\": [],\n",
    "    \"age\": [],\n",
    "    \"sex\": [],\n",
    "    \"diagnosis\": [],\n",
    "    # \"signals\": []\n",
    "}\n",
    "data = [get_data(file) for file in tqdm(test_files)]\n",
    "for row in tqdm(data):\n",
    "    for k in df.keys():\n",
    "        df[k].append(row[k])\n",
    "test_table = wandb.Table(dataframe=pd.DataFrame(df))"
   ]
  },
  {
   "cell_type": "code",
   "execution_count": null,
   "metadata": {},
   "outputs": [],
   "source": [
    "run = wandb.init(project=\"PhysioNet_Challenge\", name=\"DataSplit\")\n",
    "run.use_artifact('manan-goel/PhysioNet_Challenge/run-19xtri8j-eda_table:v0', type='run_table')"
   ]
  },
  {
   "cell_type": "code",
   "execution_count": null,
   "metadata": {},
   "outputs": [],
   "source": [
    "run.log({\n",
    "    \"TrainingData\": train_table,\n",
    "    \"ValidationData\": val_table,\n",
    "    \"TestingData\": test_table\n",
    "})\n",
    "run.finish()"
   ]
  },
  {
   "cell_type": "code",
   "execution_count": null,
   "metadata": {},
   "outputs": [],
   "source": [
    "columns = [\"id\", \"age\", \"sex\", \"diagnosis\", \"signals\"]\n",
    "table = wandb.Table(columns=columns)"
   ]
  },
  {
   "cell_type": "code",
   "execution_count": null,
   "metadata": {},
   "outputs": [],
   "source": [
    "files = [i for i in files if i.endswith(\".hea\")]\n",
    "for file in tqdm(files):\n",
    "    name = file.split(\".\")[0]\n",
    "    signal = loadmat(f\"./Training_WFDB/{name}.mat\")[\"val\"]\n",
    "    figure = make_plot(signal, name)\n",
    "    row = get_data(name)\n",
    "\n",
    "    row_ = [name, row[\"age\"], row[\"sex\"], row[\"diagnosis\"], wandb.Html(figure.to_html())]\n",
    "#     row_.extend([wandb.Html(f.to_html()) for f in figures])\n",
    "    table.add_data(*row_)"
   ]
  },
  {
   "cell_type": "code",
   "execution_count": null,
   "metadata": {},
   "outputs": [],
   "source": [
    "files = [i for i in os.listdir(\"./Training_WFDB\") if i.endswith(\".hea\")]"
   ]
  },
  {
   "cell_type": "code",
   "execution_count": null,
   "metadata": {},
   "outputs": [],
   "source": [
    "df = {\n",
    "    \"id\": [],\n",
    "    \"age\": [],\n",
    "    \"sex\": [],\n",
    "    \"diagnosis\": [],\n",
    "    \"signals\": [],\n",
    "    \"length\": [],\n",
    "}\n",
    "files = [i for i in files if i.endswith(\".hea\")]\n",
    "\n",
    "data = [get_data(file) for file in tqdm(files)]\n",
    "for row in tqdm(data):\n",
    "    for k in row.keys():\n",
    "        df[k].append(row[k])\n",
    "    df['signals'].append(wandb.Image(f\"./Training_WFDB/{row['id']}.png\"))"
   ]
  },
  {
   "cell_type": "code",
   "execution_count": null,
   "metadata": {},
   "outputs": [],
   "source": [
    "pd.DataFrame(df)"
   ]
  },
  {
   "cell_type": "code",
   "execution_count": null,
   "metadata": {},
   "outputs": [],
   "source": [
    "table = wandb.Table(dataframe=pd.DataFrame(df))"
   ]
  },
  {
   "cell_type": "code",
   "execution_count": null,
   "metadata": {},
   "outputs": [],
   "source": [
    "run = wandb.init(project=\"PhysioNet_Challenge\", name=\"EDA_Signal\")\n",
    "run.use_artifact('manan-goel/PhysioNet_Challenge/run-19xtri8j-eda_table:v0', type='run_table')"
   ]
  },
  {
   "cell_type": "code",
   "execution_count": null,
   "metadata": {},
   "outputs": [],
   "source": [
    "run.log({\"Signals_updated\": table})\n",
    "run.finish()"
   ]
  },
  {
   "cell_type": "code",
   "execution_count": null,
   "metadata": {},
   "outputs": [],
   "source": [
    "from sklearn.preprocessing import MultiLabelBinarizer"
   ]
  },
  {
   "cell_type": "code",
   "execution_count": null,
   "metadata": {},
   "outputs": [],
   "source": [
    "mlb = MultiLabelBinarizer()\n",
    "mlb.fit(pd.DataFrame(df)[\"diagnosis\"])"
   ]
  },
  {
   "cell_type": "code",
   "execution_count": null,
   "metadata": {},
   "outputs": [],
   "source": [
    "import pickle\n",
    "with open(\"mlb.pickle\", \"wb\") as f:\n",
    "    pickle.dump(mlb, f)"
   ]
  },
  {
   "cell_type": "code",
   "execution_count": null,
   "metadata": {},
   "outputs": [],
   "source": [
    "signal = loadmat(f\"./Training_WFDB/{name}.mat\")[\"val\"]\n",
    "signal.shape"
   ]
  },
  {
   "cell_type": "code",
   "execution_count": null,
   "metadata": {},
   "outputs": [],
   "source": [
    "lens = []\n",
    "files = [i for i in files if i.endswith(\".hea\")]\n",
    "signals = []\n",
    "for f in tqdm(files):\n",
    "    name = f.split(\".\")[0]\n",
    "    signal = loadmat(f\"./Training_WFDB/{name}.mat\")[\"val\"]\n",
    "\n",
    "    s = np.pad(signal, ((0, 0), (0, 72000 - signal.shape[1])), \"constant\", constant_values=0)\n",
    "    signals.append(s)"
   ]
  },
  {
   "cell_type": "code",
   "execution_count": null,
   "metadata": {},
   "outputs": [],
   "source": [
    "signals = np.array(signals)\n",
    "signals.shape"
   ]
  },
  {
   "cell_type": "code",
   "execution_count": null,
   "metadata": {},
   "outputs": [],
   "source": [
    "np.save(\"signals.npy\", signals)"
   ]
  },
  {
   "cell_type": "code",
   "execution_count": null,
   "metadata": {},
   "outputs": [],
   "source": [
    "pd.DataFrame(df)[\"length\"].hist(bins=100)"
   ]
  },
  {
   "cell_type": "code",
   "execution_count": null,
   "metadata": {},
   "outputs": [],
   "source": [
    "signals = []\n",
    "diagnoses = []\n",
    "for file in tqdm(files):\n",
    "    name = file.split(\".\")[0]\n",
    "    signal = loadmat(f\"./Training_WFDB/{name}.mat\")[\"val\"]\n",
    "    data = get_data(name)\n",
    "\n",
    "    s = []\n",
    "    for si in signal:\n",
    "        s.append(resample(si, 5000))\n",
    "    s = np.array(s)\n",
    "    signals.append(s)\n",
    "    diagnoses.append(data[\"diagnosis\"])\n",
    "signals = np.array(signals)"
   ]
  },
  {
   "cell_type": "code",
   "execution_count": null,
   "metadata": {},
   "outputs": [],
   "source": [
    "import pickle\n",
    "with open(\"mlb.pickle\", \"rb\") as f:\n",
    "    binarizer = pickle.load(f)\n",
    "\n",
    "labels = binarizer.fit_transform(diagnoses)"
   ]
  },
  {
   "cell_type": "code",
   "execution_count": null,
   "metadata": {},
   "outputs": [],
   "source": [
    "np.save(\"downsampled_signals.npy\", signals)"
   ]
  },
  {
   "cell_type": "code",
   "execution_count": null,
   "metadata": {},
   "outputs": [],
   "source": [
    "df = {\n",
    "    k: [] for k in binarizer.classes_\n",
    "}"
   ]
  },
  {
   "cell_type": "code",
   "execution_count": null,
   "metadata": {},
   "outputs": [],
   "source": [
    "for d in diagnoses:\n",
    "    for k in df.keys():\n",
    "        if k in d:\n",
    "            df[k].append(1)\n",
    "        else:\n",
    "            df[k].append(0)"
   ]
  },
  {
   "cell_type": "code",
   "execution_count": null,
   "metadata": {},
   "outputs": [],
   "source": [
    "pd.DataFrame(df).to_csv(\"labels.csv\")"
   ]
  },
  {
   "cell_type": "code",
   "execution_count": null,
   "metadata": {},
   "outputs": [],
   "source": [
    "artifact = wandb.Artifact(name=\"preprocessed_dataset\", type=\"dataset\")\n",
    "artifact.add_file(\"downsampled_signals.npy\")\n",
    "artifact.add_file(\"labels.csv\")\n",
    "\n",
    "run = wandb.init(project=\"PhysioNet_Challenge\", name=\"Preprocessed_Dataset\")\n",
    "run.use_artifact('manan-goel/PhysioNet_Challenge/run-19xtri8j-eda_table:v0', type='run_table')\n",
    "run.log_artifact(artifact)\n",
    "run.finish()"
   ]
  },
  {
   "cell_type": "code",
   "execution_count": null,
   "metadata": {},
   "outputs": [],
   "source": []
  }
 ],
 "metadata": {
  "interpreter": {
   "hash": "7d7b96a25c39fa7937ff3ab94e1dd8c63b93cb924b8f0093093c6266e25a78bc"
  },
  "kernelspec": {
   "display_name": "Python 3 (ipykernel)",
   "language": "python",
   "name": "python3"
  },
  "language_info": {
   "codemirror_mode": {
    "name": "ipython",
    "version": 3
   },
   "file_extension": ".py",
   "mimetype": "text/x-python",
   "name": "python",
   "nbconvert_exporter": "python",
   "pygments_lexer": "ipython3",
   "version": "3.9.5"
  }
 },
 "nbformat": 4,
 "nbformat_minor": 2
}
