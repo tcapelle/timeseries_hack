{
 "cells": [
  {
   "cell_type": "code",
   "execution_count": 1,
   "id": "a7a70ec3-5916-42cf-b519-0c8378b1d682",
   "metadata": {},
   "outputs": [],
   "source": [
    "import wandb\n",
    "from tsai.all import *"
   ]
  },
  {
   "cell_type": "code",
   "execution_count": 27,
   "id": "5dd0451d-3f66-4c83-9533-812aa5f2c822",
   "metadata": {},
   "outputs": [],
   "source": [
    "BS = 64"
   ]
  },
  {
   "cell_type": "code",
   "execution_count": 28,
   "id": "b72c20e6-25a0-42e7-9d33-939d41011ff1",
   "metadata": {},
   "outputs": [
    {
     "name": "stderr",
     "output_type": "stream",
     "text": [
      "\u001b[34m\u001b[1mwandb\u001b[0m: Downloading large artifact preprocessed_dataset:v0, 3148.19MB. 2 files... Done. 0:0:0\n"
     ]
    },
    {
     "data": {
      "text/plain": [
       "'./artifacts/preprocessed_dataset:v0'"
      ]
     },
     "execution_count": 28,
     "metadata": {},
     "output_type": "execute_result"
    }
   ],
   "source": [
    "api = wandb.Api()\n",
    "artifact = api.artifact('manan-goel/PhysioNet_Challenge/preprocessed_dataset:v0')\n",
    "artifact.download()"
   ]
  },
  {
   "cell_type": "code",
   "execution_count": 29,
   "id": "d65c71e0-aa5e-45b8-a054-035b73d0ba97",
   "metadata": {},
   "outputs": [],
   "source": [
    "dataset_path = Path('./artifacts/preprocessed_dataset:v0')"
   ]
  },
  {
   "cell_type": "code",
   "execution_count": 30,
   "id": "f7530a73-c948-4272-8bb7-42d592815c3c",
   "metadata": {},
   "outputs": [],
   "source": [
    "data = np.load(dataset_path/\"downsampled_signals.npy\")"
   ]
  },
  {
   "cell_type": "code",
   "execution_count": 31,
   "id": "eff45c98-8d0e-4f62-a0c5-01281983376e",
   "metadata": {},
   "outputs": [
    {
     "data": {
      "text/plain": [
       "(6877, 12, 5000)"
      ]
     },
     "execution_count": 31,
     "metadata": {},
     "output_type": "execute_result"
    }
   ],
   "source": [
    "data.shape"
   ]
  },
  {
   "cell_type": "code",
   "execution_count": 32,
   "id": "17fa58eb-02bb-4618-a71a-2c5ed9a1e5be",
   "metadata": {},
   "outputs": [],
   "source": [
    "df = pd.read_csv(dataset_path/\"labels.csv\", index_col=0)"
   ]
  },
  {
   "cell_type": "code",
   "execution_count": 33,
   "id": "7a4e4a09-58fe-4336-9f5d-e74642d124ff",
   "metadata": {},
   "outputs": [],
   "source": [
    "X, y = data, df.values"
   ]
  },
  {
   "cell_type": "code",
   "execution_count": 34,
   "id": "f8c97e37-6196-4b0f-a659-c0e6051d533a",
   "metadata": {},
   "outputs": [],
   "source": [
    "tfms  = [None, TSClassification()] # TSClassification == Categorize\n",
    "batch_tfms = TSStandardize()"
   ]
  },
  {
   "cell_type": "code",
   "execution_count": 35,
   "id": "9c4e0096-0d34-4890-ba85-40e458918c92",
   "metadata": {},
   "outputs": [],
   "source": [
    "assert len(X) == len(y), f\"Should {len(X)=} == {len(y)=}\""
   ]
  },
  {
   "cell_type": "code",
   "execution_count": 36,
   "id": "bef75a2b-211b-4032-bcd1-4443c2c327a7",
   "metadata": {},
   "outputs": [],
   "source": [
    "from sklearn.model_selection import train_test_split"
   ]
  },
  {
   "cell_type": "code",
   "execution_count": 37,
   "id": "a670685c-d65a-4940-8e13-8c65798f68f4",
   "metadata": {},
   "outputs": [],
   "source": [
    "# def split(X, pct):\n",
    "N = len(X)\n",
    "idxs = range_of(N)"
   ]
  },
  {
   "cell_type": "code",
   "execution_count": 38,
   "id": "efa35a9a-7784-4556-979c-0da5845efcb4",
   "metadata": {},
   "outputs": [],
   "source": [
    "split = train_test_split(idxs, test_size=1000)"
   ]
  },
  {
   "cell_type": "code",
   "execution_count": 39,
   "id": "b87270fa-a3f1-4fc3-8ca6-903c6ed4da74",
   "metadata": {},
   "outputs": [],
   "source": [
    "dls = get_ts_dls(X, \n",
    "                 y, \n",
    "                 splits=split,\n",
    "                 tfms=tfms, \n",
    "                 batch_tfms=batch_tfms, \n",
    "                 bs=BS)"
   ]
  },
  {
   "cell_type": "code",
   "execution_count": 40,
   "id": "7482350e-5ef8-4cd0-a7c9-967c3f56ad58",
   "metadata": {},
   "outputs": [],
   "source": [
    "x,y = dls.one_batch()"
   ]
  },
  {
   "cell_type": "code",
   "execution_count": 41,
   "id": "cbe2caba-cbeb-4c4d-bd0e-5c5d842d7ba1",
   "metadata": {},
   "outputs": [
    {
     "data": {
      "text/plain": [
       "(torch.Size([64, 12, 5000]), torch.Size([64, 9]))"
      ]
     },
     "execution_count": 41,
     "metadata": {},
     "output_type": "execute_result"
    }
   ],
   "source": [
    "x.shape, y.shape"
   ]
  },
  {
   "cell_type": "code",
   "execution_count": 42,
   "id": "b997d641-df16-4f82-baba-d1e59c78d6a0",
   "metadata": {},
   "outputs": [],
   "source": [
    "model = InceptionTime(12, 9).cuda()"
   ]
  },
  {
   "cell_type": "code",
   "execution_count": 43,
   "id": "f5f3fa6d-b22a-4382-927d-bd76923a440d",
   "metadata": {},
   "outputs": [],
   "source": [
    "out = model(x.cuda())"
   ]
  },
  {
   "cell_type": "code",
   "execution_count": 44,
   "id": "d0cd5e6e-38ff-4e67-9612-516dd46b876b",
   "metadata": {},
   "outputs": [],
   "source": [
    "def my_accuracy_multi(inp, targ, thresh=0.5, sigmoid=True, by_sample=False):\n",
    "    \"Computes accuracy when `inp` and `targ` are the same size.\"\n",
    "    if sigmoid: inp = inp.sigmoid()\n",
    "    correct = (inp>thresh)==targ.bool()\n",
    "    if by_sample:\n",
    "        return (correct.float().mean(-1) == 1).float().mean()\n",
    "    else:\n",
    "        inp,targ = flatten_check(inp,targ)\n",
    "        return correct.float().mean()"
   ]
  },
  {
   "cell_type": "code",
   "execution_count": 45,
   "id": "22d425b4-bb1d-42dc-938f-a4661b36fca6",
   "metadata": {},
   "outputs": [
    {
     "data": {
      "text/plain": [
       "TensorCategory(0.5538, device='cuda:0')"
      ]
     },
     "execution_count": 45,
     "metadata": {},
     "output_type": "execute_result"
    }
   ],
   "source": [
    "my_accuracy_multi(out, y)"
   ]
  },
  {
   "cell_type": "code",
   "execution_count": 46,
   "id": "2e38d2ac-f072-4222-a184-8f3d6bd77ac3",
   "metadata": {},
   "outputs": [],
   "source": [
    "from fastai.callback.fp16 import MixedPrecision\n",
    "from fastai.callback.wandb import WandbCallback"
   ]
  },
  {
   "cell_type": "code",
   "execution_count": 47,
   "id": "1df18c62-58cb-4c81-b456-df221237d335",
   "metadata": {},
   "outputs": [
    {
     "name": "stderr",
     "output_type": "stream",
     "text": [
      "\u001b[34m\u001b[1mwandb\u001b[0m: wandb version 0.12.13 is available!  To upgrade, please run:\n",
      "\u001b[34m\u001b[1mwandb\u001b[0m:  $ pip install wandb --upgrade\n"
     ]
    },
    {
     "data": {
      "text/html": [
       "\n",
       "                    Syncing run <strong><a href=\"https://wandb.ai/timeseriesbois/tsai/runs/2pc765bi\" target=\"_blank\">magic-sun-5</a></strong> to <a href=\"https://wandb.ai/timeseriesbois/tsai\" target=\"_blank\">Weights & Biases</a> (<a href=\"https://docs.wandb.com/integrations/jupyter.html\" target=\"_blank\">docs</a>).<br/>\n",
       "\n",
       "                "
      ],
      "text/plain": [
       "<IPython.core.display.HTML object>"
      ]
     },
     "metadata": {},
     "output_type": "display_data"
    },
    {
     "data": {
      "text/html": [
       "<button onClick=\"this.nextSibling.style.display='block';this.style.display='none';\">Display W&B run</button><iframe src=\"https://wandb.ai/timeseriesbois/tsai/runs/2pc765bi?jupyter=true\" style=\"border:none;width:100%;height:420px;display:none;\"></iframe>"
      ],
      "text/plain": [
       "<wandb.sdk.wandb_run.Run at 0x7fb2e46d8fa0>"
      ]
     },
     "execution_count": 47,
     "metadata": {},
     "output_type": "execute_result"
    }
   ],
   "source": [
    "wandb.init(entity=\"timeseriesbois\", project=\"tsai\")"
   ]
  },
  {
   "cell_type": "code",
   "execution_count": 48,
   "id": "c52409b3-6cab-4f3f-a97a-b3dd3b69bf7c",
   "metadata": {},
   "outputs": [],
   "source": [
    "wandb_cb = WandbCallback(log_preds=False, log_model=False)"
   ]
  },
  {
   "cell_type": "code",
   "execution_count": 49,
   "id": "1ac31012-585b-462b-a141-57942b01f968",
   "metadata": {},
   "outputs": [],
   "source": [
    "learn = Learner(dls, \n",
    "                model, \n",
    "                loss_func=BCEWithLogitsLossFlat(), \n",
    "                metrics=[my_accuracy_multi],\n",
    "                cbs=[wandb_cb, MixedPrecision()])"
   ]
  },
  {
   "cell_type": "code",
   "execution_count": null,
   "id": "df49ca25-67e1-4bc0-a25e-6cc15c4bce56",
   "metadata": {},
   "outputs": [
    {
     "data": {
      "text/html": [
       "\n",
       "    <div>\n",
       "        <style>\n",
       "            /* Turns off some styling */\n",
       "            progress {\n",
       "                /* gets rid of default border in Firefox and Opera. */\n",
       "                border: none;\n",
       "                /* Needs to be in here for Safari polyfill so background images work as expected. */\n",
       "                background-size: auto;\n",
       "            }\n",
       "            .progress-bar-interrupted, .progress-bar-interrupted::-webkit-progress-bar {\n",
       "                background: #F44336;\n",
       "            }\n",
       "        </style>\n",
       "      <progress value='8' class='' max='10' style='width:300px; height:20px; vertical-align: middle;'></progress>\n",
       "      80.00% [8/10 01:05<00:16]\n",
       "    </div>\n",
       "    \n",
       "<table border=\"1\" class=\"dataframe\">\n",
       "  <thead>\n",
       "    <tr style=\"text-align: left;\">\n",
       "      <th>epoch</th>\n",
       "      <th>train_loss</th>\n",
       "      <th>valid_loss</th>\n",
       "      <th>my_accuracy_multi</th>\n",
       "      <th>time</th>\n",
       "    </tr>\n",
       "  </thead>\n",
       "  <tbody>\n",
       "    <tr>\n",
       "      <td>0</td>\n",
       "      <td>0.491945</td>\n",
       "      <td>0.363853</td>\n",
       "      <td>0.901889</td>\n",
       "      <td>00:08</td>\n",
       "    </tr>\n",
       "    <tr>\n",
       "      <td>1</td>\n",
       "      <td>0.299240</td>\n",
       "      <td>0.255680</td>\n",
       "      <td>0.909889</td>\n",
       "      <td>00:08</td>\n",
       "    </tr>\n",
       "    <tr>\n",
       "      <td>2</td>\n",
       "      <td>0.238441</td>\n",
       "      <td>0.214254</td>\n",
       "      <td>0.923667</td>\n",
       "      <td>00:08</td>\n",
       "    </tr>\n",
       "    <tr>\n",
       "      <td>3</td>\n",
       "      <td>0.209513</td>\n",
       "      <td>0.234816</td>\n",
       "      <td>0.915111</td>\n",
       "      <td>00:08</td>\n",
       "    </tr>\n",
       "    <tr>\n",
       "      <td>4</td>\n",
       "      <td>0.193131</td>\n",
       "      <td>0.203904</td>\n",
       "      <td>0.924778</td>\n",
       "      <td>00:08</td>\n",
       "    </tr>\n",
       "    <tr>\n",
       "      <td>5</td>\n",
       "      <td>0.177594</td>\n",
       "      <td>0.176413</td>\n",
       "      <td>0.937667</td>\n",
       "      <td>00:08</td>\n",
       "    </tr>\n",
       "    <tr>\n",
       "      <td>6</td>\n",
       "      <td>0.165057</td>\n",
       "      <td>0.169570</td>\n",
       "      <td>0.940000</td>\n",
       "      <td>00:08</td>\n",
       "    </tr>\n",
       "    <tr>\n",
       "      <td>7</td>\n",
       "      <td>0.154018</td>\n",
       "      <td>0.160415</td>\n",
       "      <td>0.944111</td>\n",
       "      <td>00:08</td>\n",
       "    </tr>\n",
       "  </tbody>\n",
       "</table><p>\n",
       "\n",
       "    <div>\n",
       "        <style>\n",
       "            /* Turns off some styling */\n",
       "            progress {\n",
       "                /* gets rid of default border in Firefox and Opera. */\n",
       "                border: none;\n",
       "                /* Needs to be in here for Safari polyfill so background images work as expected. */\n",
       "                background-size: auto;\n",
       "            }\n",
       "            .progress-bar-interrupted, .progress-bar-interrupted::-webkit-progress-bar {\n",
       "                background: #F44336;\n",
       "            }\n",
       "        </style>\n",
       "      <progress value='2' class='' max='91' style='width:300px; height:20px; vertical-align: middle;'></progress>\n",
       "      2.20% [2/91 00:00<00:07 0.1540]\n",
       "    </div>\n",
       "    "
      ],
      "text/plain": [
       "<IPython.core.display.HTML object>"
      ]
     },
     "metadata": {},
     "output_type": "display_data"
    }
   ],
   "source": [
    "learn.fit_one_cycle(10, 1e-3)"
   ]
  },
  {
   "cell_type": "code",
   "execution_count": null,
   "id": "4a2f9a5b-b89f-4c54-8d77-92802cddec26",
   "metadata": {},
   "outputs": [],
   "source": [
    "wandb.finish()"
   ]
  },
  {
   "cell_type": "markdown",
   "id": "111609c8-10e5-4abf-bcb0-8d720e580b33",
   "metadata": {},
   "source": [
    "## Predictions"
   ]
  },
  {
   "cell_type": "code",
   "execution_count": null,
   "id": "5e34d00e-7d91-48e9-a1cf-43c16b698b2f",
   "metadata": {},
   "outputs": [],
   "source": [
    "preds = learn.get_preds( )"
   ]
  },
  {
   "cell_type": "code",
   "execution_count": null,
   "id": "1b136af6-10be-4417-a16c-aa0cc4483f45",
   "metadata": {},
   "outputs": [],
   "source": []
  },
  {
   "cell_type": "code",
   "execution_count": null,
   "id": "7cf05f9e-45af-44fa-90a6-c7b29b5f6586",
   "metadata": {},
   "outputs": [],
   "source": []
  },
  {
   "cell_type": "code",
   "execution_count": null,
   "id": "9661ec1c-64b3-4ec9-a732-7464cae31e3b",
   "metadata": {},
   "outputs": [],
   "source": []
  },
  {
   "cell_type": "code",
   "execution_count": null,
   "id": "48dd3c97-1f92-41cd-a02f-83e5ba8ec641",
   "metadata": {},
   "outputs": [],
   "source": []
  },
  {
   "cell_type": "code",
   "execution_count": null,
   "id": "84325cb1-8e40-4227-ac4d-40749c296475",
   "metadata": {},
   "outputs": [],
   "source": []
  },
  {
   "cell_type": "code",
   "execution_count": null,
   "id": "e5f201b8-bda5-40c8-ab42-24a5f3097313",
   "metadata": {},
   "outputs": [],
   "source": []
  }
 ],
 "metadata": {
  "kernelspec": {
   "display_name": "Python 3 (ipykernel)",
   "language": "python",
   "name": "python3"
  },
  "language_info": {
   "codemirror_mode": {
    "name": "ipython",
    "version": 3
   },
   "file_extension": ".py",
   "mimetype": "text/x-python",
   "name": "python",
   "nbconvert_exporter": "python",
   "pygments_lexer": "ipython3",
   "version": "3.9.9"
  }
 },
 "nbformat": 4,
 "nbformat_minor": 5
}
